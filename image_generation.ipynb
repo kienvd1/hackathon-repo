{
 "cells": [
  {
   "cell_type": "code",
   "execution_count": 3,
   "metadata": {},
   "outputs": [],
   "source": [
    "import requests"
   ]
  },
  {
   "cell_type": "code",
   "execution_count": null,
   "metadata": {},
   "outputs": [],
   "source": [
    "FLUX_API = \"039af3b8-53c9-4c61-91a7-88be17323c98\""
   ]
  },
  {
   "cell_type": "code",
   "execution_count": 37,
   "metadata": {},
   "outputs": [],
   "source": [
    "PROMPT_2 = f\"\"\"\n",
    "Generate a funny sticker for an real estate agent, having agent's face in the middle to say hello to their clients\n",
    "The style of the image should be cartoonish, bright colors, and funny\n",
    "\"\"\""
   ]
  },
  {
   "cell_type": "code",
   "execution_count": 41,
   "metadata": {},
   "outputs": [
    {
     "name": "stdout",
     "output_type": "stream",
     "text": [
      "{'id': '6a120780-b071-4d49-9cd5-6e88a3905b97'}\n"
     ]
    }
   ],
   "source": [
    "url = \"https://api.bfl.ml/v1/flux-pro\"\n",
    "\n",
    "payload = {\n",
    "    \"prompt\": PROMPT_2,\n",
    "    \"width\": 1024,\n",
    "    \"height\": 768,\n",
    "    \"steps\": 40,\n",
    "    \"prompt_upsampling\": False,\n",
    "    \"seed\": 42,\n",
    "    \"guidance\": 2.5,\n",
    "    \"safety_tolerance\": 2,\n",
    "    \"interval\": 2,\n",
    "    \"output_format\": \"jpeg\"\n",
    "}\n",
    "headers = {\n",
    "    \"Content-Type\": \"application/json\",\n",
    "    \"X-Key\": \"039af3b8-53c9-4c61-91a7-88be17323c98\"\n",
    "}\n",
    "\n",
    "response = requests.post(url, json=payload, headers=headers)\n",
    "\n",
    "print(response.json())"
   ]
  },
  {
   "cell_type": "code",
   "execution_count": 42,
   "metadata": {},
   "outputs": [
    {
     "name": "stdout",
     "output_type": "stream",
     "text": [
      "{'id': '6a120780-b071-4d49-9cd5-6e88a3905b97', 'status': 'Ready', 'result': {'sample': 'https://bfldeliverysc.blob.core.windows.net/results/8303d4548e2a4fcfa0710fc153848d80/sample.jpeg?se=2024-11-19T04%3A03%3A27Z&sp=r&sv=2024-11-04&sr=b&rsct=image/jpeg&sig=NZ/iYhn6hETY0G5p6yHkGaEQ8pZjV6ATI8m74QMRXmQ%3D', 'prompt': \"\\nGenerate a funny sticker for an real estate agent, having agent's face in the middle to say hello to their clients\\nThe style of the image should be cartoonish, bright colors, and funny\\n\", 'seed': 42, 'start_time': 1731988400.550196, 'end_time': 1731988408.1702535, 'duration': 7.620057582855225}}\n"
     ]
    }
   ],
   "source": [
    "import requests\n",
    "\n",
    "url = \"https://api.bfl.ml/v1/get_result\"\n",
    "\n",
    "querystring = {\"id\":\"6a120780-b071-4d49-9cd5-6e88a3905b97\"}\n",
    "\n",
    "response = requests.get(url, params=querystring)\n",
    "\n",
    "print(response.json())"
   ]
  },
  {
   "cell_type": "code",
   "execution_count": null,
   "metadata": {},
   "outputs": [],
   "source": []
  }
 ],
 "metadata": {
  "kernelspec": {
   "display_name": "poetry_add_pandas_numpy_matplotlib-mOSAcg_s-py3.11",
   "language": "python",
   "name": "python3"
  },
  "language_info": {
   "codemirror_mode": {
    "name": "ipython",
    "version": 3
   },
   "file_extension": ".py",
   "mimetype": "text/x-python",
   "name": "python",
   "nbconvert_exporter": "python",
   "pygments_lexer": "ipython3",
   "version": "3.11.6"
  }
 },
 "nbformat": 4,
 "nbformat_minor": 2
}
